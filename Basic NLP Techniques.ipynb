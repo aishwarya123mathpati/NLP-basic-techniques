{
 "cells": [
  {
   "cell_type": "markdown",
   "id": "07423fdf-0940-458e-80c3-5b2a7d4a4742",
   "metadata": {},
   "source": [
    "- This project demonstrates fundamental Natural Language Processing techniques such as tokenization, stemming, lemmatization, Bag of Words, and TF-IDF. \n",
    "- These techniques are commonly used in text preprocessing and feature extraction for NLP tasks."
   ]
  },
  {
   "cell_type": "code",
   "execution_count": 2,
   "id": "284902f7-2fc7-483e-a152-55efb093e8f6",
   "metadata": {},
   "outputs": [
    {
     "name": "stderr",
     "output_type": "stream",
     "text": [
      "[nltk_data] Downloading package punkt to\n",
      "[nltk_data]     C:\\Users\\Umakant\\AppData\\Roaming\\nltk_data...\n",
      "[nltk_data]   Package punkt is already up-to-date!\n",
      "[nltk_data] Downloading package wordnet to\n",
      "[nltk_data]     C:\\Users\\Umakant\\AppData\\Roaming\\nltk_data...\n",
      "[nltk_data]   Package wordnet is already up-to-date!\n",
      "[nltk_data] Downloading package omw-1.4 to\n",
      "[nltk_data]     C:\\Users\\Umakant\\AppData\\Roaming\\nltk_data...\n"
     ]
    },
    {
     "name": "stdout",
     "output_type": "stream",
     "text": [
      "Tokens:\n",
      "['Natural', 'Language', 'Processing', '(', 'NLP', ')', 'is', 'a', 'fascinating', 'field', 'of', 'artificial', 'intelligence', 'that', 'deals', 'with', 'the', 'interaction', 'between', 'computers', 'and', 'humans', 'using', 'natural', 'language', '.', 'It', 'includes', 'tasks', 'such', 'as', 'tokenization', ',', 'stemming', ',', 'and', 'lemmatization', '.']\n"
     ]
    },
    {
     "name": "stderr",
     "output_type": "stream",
     "text": [
      "[nltk_data]   Package omw-1.4 is already up-to-date!\n"
     ]
    }
   ],
   "source": [
    "# Import necessary libraries\n",
    "from nltk.tokenize import word_tokenize\n",
    "from nltk.stem import PorterStemmer, WordNetLemmatizer\n",
    "from sklearn.feature_extraction.text import CountVectorizer, TfidfVectorizer\n",
    "import nltk\n",
    "from nltk.corpus import stopwords\n",
    "\n",
    "# Download NLTK data\n",
    "nltk.download('punkt')\n",
    "nltk.download('wordnet')\n",
    "nltk.download('omw-1.4')\n",
    "nltk.download('stopwords')\n",
    "\n",
    "# paragraph\n",
    "text = \"\"\"\n",
    "Natural Language Processing (NLP) is a fascinating field of artificial intelligence \n",
    "that deals with the interaction between computers and humans using natural language. \n",
    "It includes tasks such as tokenization, stemming, and lemmatization.\n",
    "\"\"\"\n",
    "\n",
    "# 1. Tokenization\n",
    "tokens = word_tokenize(text)\n",
    "print(\"Tokens:\")\n",
    "print(tokens)\n",
    "\n"
   ]
  },
  {
   "cell_type": "markdown",
   "id": "29c60862-0812-4402-9852-90240f126143",
   "metadata": {},
   "source": [
    "**2. Stemming**"
   ]
  },
  {
   "cell_type": "code",
   "execution_count": 4,
   "id": "845f5e41-a215-4edf-9ba7-4340ea5c9ffd",
   "metadata": {},
   "outputs": [
    {
     "name": "stdout",
     "output_type": "stream",
     "text": [
      "\n",
      "Stemmed Words:\n",
      "['natur', 'languag', 'process', '(', 'nlp', ')', 'is', 'a', 'fascin', 'field', 'of', 'artifici', 'intellig', 'that', 'deal', 'with', 'the', 'interact', 'between', 'comput', 'and', 'human', 'use', 'natur', 'languag', '.', 'it', 'includ', 'task', 'such', 'as', 'token', ',', 'stem', ',', 'and', 'lemmat', '.']\n"
     ]
    }
   ],
   "source": [
    "\n",
    "stemmer = PorterStemmer()\n",
    "stems = [stemmer.stem(token) for token in tokens]\n",
    "print(\"\\nStemmed Words:\")\n",
    "print(stems)\n",
    "\n"
   ]
  },
  {
   "cell_type": "code",
   "execution_count": null,
   "id": "0a88502b-bfde-4b58-992d-27bc13267c2b",
   "metadata": {},
   "outputs": [],
   "source": []
  },
  {
   "cell_type": "markdown",
   "id": "e6f555b7-a277-4278-9f0e-ed9d3fce9b6e",
   "metadata": {},
   "source": [
    "**Lemmatization**"
   ]
  },
  {
   "cell_type": "code",
   "execution_count": 6,
   "id": "5dbb0412-a4aa-4492-9b02-9edddac6f876",
   "metadata": {},
   "outputs": [
    {
     "name": "stdout",
     "output_type": "stream",
     "text": [
      "\n",
      "Lemmatized Words:\n",
      "['Natural', 'Language', 'Processing', '(', 'NLP', ')', 'is', 'a', 'fascinating', 'field', 'of', 'artificial', 'intelligence', 'that', 'deal', 'with', 'the', 'interaction', 'between', 'computer', 'and', 'human', 'using', 'natural', 'language', '.', 'It', 'includes', 'task', 'such', 'a', 'tokenization', ',', 'stemming', ',', 'and', 'lemmatization', '.']\n"
     ]
    }
   ],
   "source": [
    "\n",
    "lemmatizer = WordNetLemmatizer()\n",
    "lemmas = [lemmatizer.lemmatize(token) for token in tokens]\n",
    "print(\"\\nLemmatized Words:\")\n",
    "print(lemmas)\n",
    "\n"
   ]
  },
  {
   "cell_type": "code",
   "execution_count": 8,
   "id": "26b67340-c6c2-46fa-a6fc-7aa6c326610a",
   "metadata": {},
   "outputs": [
    {
     "name": "stdout",
     "output_type": "stream",
     "text": [
      "\n",
      "Bag of Words (BoW):\n",
      "[[2 1 1 1 1 1 1 1 1 1 1 1 1 1 2 1 2 1 1 1 1 1 1 1 1 1 1 1]]\n",
      "Feature Names: ['and' 'artificial' 'as' 'between' 'computers' 'deals' 'fascinating'\n",
      " 'field' 'humans' 'includes' 'intelligence' 'interaction' 'is' 'it'\n",
      " 'language' 'lemmatization' 'natural' 'nlp' 'of' 'processing' 'stemming'\n",
      " 'such' 'tasks' 'that' 'the' 'tokenization' 'using' 'with']\n"
     ]
    }
   ],
   "source": [
    "# 4. Bag of Words (BoW)\n",
    "vectorizer_bow = CountVectorizer()\n",
    "bow_matrix = vectorizer_bow.fit_transform([text])\n",
    "print(\"\\nBag of Words (BoW):\")\n",
    "print(bow_matrix.toarray())\n",
    "print(\"Feature Names:\", vectorizer_bow.get_feature_names_out())\n",
    "\n"
   ]
  },
  {
   "cell_type": "code",
   "execution_count": 10,
   "id": "ecfa4d65-405d-4e47-b6e1-597f9bec8917",
   "metadata": {},
   "outputs": [
    {
     "name": "stdout",
     "output_type": "stream",
     "text": [
      "\n",
      "TF-IDF Matrix:\n",
      "[[0.32879797 0.16439899 0.16439899 0.16439899 0.16439899 0.16439899\n",
      "  0.16439899 0.16439899 0.16439899 0.16439899 0.16439899 0.16439899\n",
      "  0.16439899 0.16439899 0.32879797 0.16439899 0.32879797 0.16439899\n",
      "  0.16439899 0.16439899 0.16439899 0.16439899 0.16439899 0.16439899\n",
      "  0.16439899 0.16439899 0.16439899 0.16439899]]\n",
      "Feature Names: ['and' 'artificial' 'as' 'between' 'computers' 'deals' 'fascinating'\n",
      " 'field' 'humans' 'includes' 'intelligence' 'interaction' 'is' 'it'\n",
      " 'language' 'lemmatization' 'natural' 'nlp' 'of' 'processing' 'stemming'\n",
      " 'such' 'tasks' 'that' 'the' 'tokenization' 'using' 'with']\n"
     ]
    }
   ],
   "source": [
    "# 5. TF-IDF\n",
    "vectorizer_tfidf = TfidfVectorizer()\n",
    "tfidf_matrix = vectorizer_tfidf.fit_transform([text])\n",
    "print(\"\\nTF-IDF Matrix:\")\n",
    "print(tfidf_matrix.toarray())\n",
    "print(\"Feature Names:\", vectorizer_tfidf.get_feature_names_out())\n"
   ]
  },
  {
   "cell_type": "code",
   "execution_count": 16,
   "id": "be47a8c8-f49b-4131-aaf4-563e537bfb3e",
   "metadata": {},
   "outputs": [
    {
     "name": "stdout",
     "output_type": "stream",
     "text": [
      "\n",
      "Filtered Tokens (Stopwords Removed):\n",
      "['Natural', 'Language', 'Processing', '(', 'NLP', ')', 'fascinating', 'field', 'artificial', 'intelligence', 'deals', 'interaction', 'computers', 'humans', 'using', 'natural', 'language', '.', 'includes', 'tasks', 'tokenization', ',', 'stemming', ',', 'lemmatization', '.']\n"
     ]
    }
   ],
   "source": [
    "# 6. Stopword Removal\n",
    "stop_words = set(stopwords.words('english'))\n",
    "filtered_tokens = [word for word in tokens if word.lower() not in stop_words]\n",
    "print(\"\\nFiltered Tokens (Stopwords Removed):\")\n",
    "print(filtered_tokens)"
   ]
  },
  {
   "cell_type": "code",
   "execution_count": null,
   "id": "7fe9faeb-372f-4ea8-8771-bd0ca39c0435",
   "metadata": {},
   "outputs": [],
   "source": []
  }
 ],
 "metadata": {
  "kernelspec": {
   "display_name": "Python 3 (ipykernel)",
   "language": "python",
   "name": "python3"
  },
  "language_info": {
   "codemirror_mode": {
    "name": "ipython",
    "version": 3
   },
   "file_extension": ".py",
   "mimetype": "text/x-python",
   "name": "python",
   "nbconvert_exporter": "python",
   "pygments_lexer": "ipython3",
   "version": "3.12.4"
  }
 },
 "nbformat": 4,
 "nbformat_minor": 5
}
